{
 "cells": [
  {
   "cell_type": "code",
   "execution_count": null,
   "metadata": {
    "slideshow": {
     "slide_type": "skip"
    }
   },
   "outputs": [],
   "source": [
    "import pandas as pd\n",
    "import numpy as np\n",
    "import matplotlib.pyplot as plt\n",
    "import seaborn as sns\n",
    "import plotly.express as px\n",
    "\n",
    "plt.style.use('seaborn-white')\n",
    "plt.rc('figure', dpi=100, figsize=(7, 5))\n",
    "plt.rc('font', size=12)\n",
    "\n",
    "import warnings\n",
    "warnings.simplefilter('ignore')"
   ]
  },
  {
   "cell_type": "markdown",
   "metadata": {
    "slideshow": {
     "slide_type": "slide"
    }
   },
   "source": [
    "# Lecture 28 – Fairness, Conclusion\n",
    "\n",
    "## DSC 80, Spring 2022"
   ]
  },
  {
   "cell_type": "markdown",
   "metadata": {
    "slideshow": {
     "slide_type": "slide"
    }
   },
   "source": [
    "### Announcements\n",
    "- The Final Exam is on **tomorrow from 11:30AM-2:30PM in-person**!\n",
    "    - See [this Campuswire post](https://campuswire.com/c/G325FA25B/feed/1754) for all the details, **including seating assignments and charts**.\n",
    "    - Lectures 1-26, Projects 1-5, Labs 1-9, and Discussions 1-8 are all in scope.\n",
    "    - [Come to office hours](https://dsc80.com/calendar/); I'm holding office hours from 5:30-7:30PM.\n",
    "- Project 5 is due on **Thursday, June 9th at 11:59PM**!\n",
    "- If at least 80% of the class fills out BOTH [CAPEs](https://cape.ucsd.edu/) and the [End-of-Quarter Survey](https://docs.google.com/forms/d/e/1FAIpQLSepSEBy0KC1-RHGF6dixYKZ-2p3SVdiPHB9spXPlA6PZNUy4A/viewform), then everyone will receive an extra 0.5% added to their overall course grade. \n",
    "    - Deadline: **tomorrow at 8AM**.\n",
    "    - Currently at ~60% on the internal survey and ~70% on CAPEs – we're close!\n",
    "- The Grade Report is updated with everything other than Project 5 and the Final Exam."
   ]
  },
  {
   "cell_type": "markdown",
   "metadata": {
    "slideshow": {
     "slide_type": "slide"
    }
   },
   "source": [
    "### Agenda\n",
    "\n",
    "- Fairness.\n",
    "- Parity measures.\n",
    "- Example: Loan approval.\n",
    "- Parting thoughts."
   ]
  },
  {
   "cell_type": "markdown",
   "metadata": {
    "slideshow": {
     "slide_type": "slide"
    }
   },
   "source": [
    "## Fairness"
   ]
  },
  {
   "cell_type": "markdown",
   "metadata": {
    "slideshow": {
     "slide_type": "slide"
    }
   },
   "source": [
    "### Example: Image searches\n",
    "\n",
    "A 2015 study examined the image queries of vocations and the gender makeup in the search results. Since 2015, the behavior of Google Images has been improved."
   ]
  },
  {
   "cell_type": "markdown",
   "metadata": {
    "slideshow": {
     "slide_type": "slide"
    }
   },
   "source": [
    "In 2015, a Google Images search for \"**nurse**\" returned...\n",
    "\n",
    "<center><img src='imgs/nurses2015.jpg'></center>\n",
    "\n",
    "Search for \"nurse\" now, what do you see?"
   ]
  },
  {
   "cell_type": "markdown",
   "metadata": {
    "slideshow": {
     "slide_type": "slide"
    }
   },
   "source": [
    "In 2015, a Google Images search for \"**doctor**\" returned...\n",
    "\n",
    "<center><img src='imgs/doctors2015.jpg'></center>\n",
    "\n",
    "Search for \"doctor\" now, what do you see?"
   ]
  },
  {
   "cell_type": "markdown",
   "metadata": {
    "slideshow": {
     "slide_type": "slide"
    }
   },
   "source": [
    "### Ethics: What gender ratio _should_ we expect in the results?\n",
    "\n",
    "- Should it be 50/50?\n",
    "- Should it reflect the true gender distribution of those jobs?\n",
    "- More generally, what do you expect from your search results?\n",
    "    - This is a philosophical and ethical question, but one that **we need to think about as data scientists**."
   ]
  },
  {
   "cell_type": "markdown",
   "metadata": {
    "slideshow": {
     "slide_type": "slide"
    }
   },
   "source": [
    "<center><img src='imgs/google-photos-paper.png' width=70%></center>\n",
    "\n",
    "Excerpts:\n",
    "\n",
    "> \"male-dominated professions tend to have even more men\n",
    "in their results than would be expected if the proportions\n",
    "reflected real-world distributions.\n",
    "\n",
    "> \"People’s existing perceptions of gender ratios in occupations\n",
    "are quite accurate, but that manipulated search results have an effect on perceptions.\""
   ]
  },
  {
   "cell_type": "markdown",
   "metadata": {
    "slideshow": {
     "slide_type": "slide"
    }
   },
   "source": [
    "### How did this unequal representation occur?\n",
    "\n",
    "* The training data that Google Images searches from encoded existing biases.\n",
    "    - While 60% of doctors may be male, 80% of photos (including stock photos) of doctors on the internet may be of male doctors.\n",
    "* Models (like PageRank) that \"rank\" images find the, say, 5 \"most relevant\" image, not the 5 \"most typical\" images."
   ]
  },
  {
   "cell_type": "markdown",
   "metadata": {
    "slideshow": {
     "slide_type": "slide"
    }
   },
   "source": [
    "## Parity measures"
   ]
  },
  {
   "cell_type": "markdown",
   "metadata": {
    "slideshow": {
     "slide_type": "slide"
    }
   },
   "source": [
    "### Notation \n",
    "\n",
    "* $C$ is a binary classifier.\n",
    "    * $C \\in \\{0, 1\\}$ is the prediction that the classifier makes.\n",
    "    * For instance, $C$ may predict whether or not an assignment is plagiarized.\n",
    "* $Y \\in \\{0,1\\}$ is the \"true\" label.\n",
    "* $A \\in \\{0, 1\\}$ is a binary attribute of interest.\n",
    "    * For instance, $A = 1$ may mean that you are a data science major, and $A = 0$ may mean that you are not a data science major."
   ]
  },
  {
   "cell_type": "markdown",
   "metadata": {
    "slideshow": {
     "slide_type": "fragment"
    }
   },
   "source": [
    "- **Key idea:** A classifier $C$ is \"fair\" if it performs the same for individuals in group $A$ and individuals outside of group $A$.\n",
    "    - But what do we mean by \"the same\"?"
   ]
  },
  {
   "cell_type": "markdown",
   "metadata": {
    "slideshow": {
     "slide_type": "slide"
    }
   },
   "source": [
    "### Demographic parity\n",
    "\n",
    "* A classifier $C$ achieves **demographic parity** if the proportion of the population for which $C = 1$ is the same both within A and outside A.\n",
    "$$\\mathbb{P}(C=1|A=1) = \\mathbb{P}(C=1|A\\neq 1)$$"
   ]
  },
  {
   "cell_type": "markdown",
   "metadata": {
    "slideshow": {
     "slide_type": "fragment"
    }
   },
   "source": [
    "* The assumption of demographic parity: the proportion of times the classifier predicts 1 is **independent** of $A$."
   ]
  },
  {
   "cell_type": "markdown",
   "metadata": {
    "slideshow": {
     "slide_type": "fragment"
    }
   },
   "source": [
    "- **Example 1:** $C$ is a binary classifier that predicts whether or not an essay is plagiarized.\n",
    "    - Suppose $A$ is \"class is a science class\".\n",
    "    - If $C$ achieves demographic parity, then **the proportion of the population for which an assignment is predicted to be plagiarized should be equal for science and non-science classes**."
   ]
  },
  {
   "cell_type": "markdown",
   "metadata": {
    "slideshow": {
     "slide_type": "fragment"
    }
   },
   "source": [
    "- **Example 2:** $C$ is a binary classifier that predicts whether an image is of a doctor.\n",
    "    - Suppose $A$ is \"image is of a woman\".\n",
    "    - If $C$ achieves demographic parity, then **the proportion of the population for which the classification is \"doctor\" should be the same for women and non-women**."
   ]
  },
  {
   "cell_type": "markdown",
   "metadata": {
    "slideshow": {
     "slide_type": "slide"
    }
   },
   "source": [
    "### Accuracy parity\n",
    "\n",
    "- Demographic parity is not the only notion of \"fairness!\"\n",
    "    - You might expect more instances of plagiarism in non-science classes than you would in science classes; demographic parity says this is unfair but it may not be."
   ]
  },
  {
   "cell_type": "markdown",
   "metadata": {
    "slideshow": {
     "slide_type": "fragment"
    }
   },
   "source": [
    "- A classifier $C$ achieves **accuracy parity** if the proportion of predictions that are classified correctly is the same both within $A$ and outside of $A$.\n",
    "\n",
    "$$\\mathbb{P}(C=Y|A=1) = \\mathbb{P}(C=Y|A\\neq 1)$$"
   ]
  },
  {
   "cell_type": "markdown",
   "metadata": {
    "slideshow": {
     "slide_type": "fragment"
    }
   },
   "source": [
    "* The assumption of accuracy parity: the classifier's accuracy should be independent of $A$."
   ]
  },
  {
   "cell_type": "markdown",
   "metadata": {
    "slideshow": {
     "slide_type": "fragment"
    }
   },
   "source": [
    "- **Example:** $C$ is a binary classifier that determines whether someone receives a loan.\n",
    "    - Suppose $A$ is \"age is less than 25\".\n",
    "    - If the classifier is correct, i.e. if $C = Y$, then either $C$ approves the loan and it is paid off, or $C$ denies the loan and it would have defaulted.\n",
    "    - If $C$ achieves accuracy parity, then the proportion of correctly classified loans should be the same for those under 25 and those over 25."
   ]
  },
  {
   "cell_type": "markdown",
   "metadata": {
    "slideshow": {
     "slide_type": "slide"
    }
   },
   "source": [
    "### True positive parity\n",
    "\n",
    "- A classifier $C$ achieves **true positive parity** if the proportion of actually positive individuals that are correctly classified is the same both within $A$ and outside of $A$. \n",
    "\n",
    "$$\\mathbb{P}(C=1|Y=1, A=1) = \\mathbb{P}(C=1|Y=1, A\\neq 1)$$"
   ]
  },
  {
   "cell_type": "markdown",
   "metadata": {
    "slideshow": {
     "slide_type": "fragment"
    }
   },
   "source": [
    "- A more natural way to think of true positive parity is as **recall parity** – if $C$ achieves true positive parity, its recall should be independent of $A$."
   ]
  },
  {
   "cell_type": "markdown",
   "metadata": {
    "slideshow": {
     "slide_type": "slide"
    }
   },
   "source": [
    "### Other measures of parity\n",
    "\n",
    "- We've just scratched the surface with measures of parity. \n",
    "- Any evaluation metric for a binary classifier can lead to a parity measure – a parity measure requires \"similar outcomes\" across groups.\n",
    "    - Precision parity.\n",
    "    - False positive parity.\n",
    "- **Note:** Many of these parity conditions are **impossible** to satisfy simultaneously!\n",
    "    - See DSC 167 for more."
   ]
  },
  {
   "cell_type": "markdown",
   "metadata": {
    "slideshow": {
     "slide_type": "slide"
    }
   },
   "source": [
    "## Example: Loan approval"
   ]
  },
  {
   "cell_type": "markdown",
   "metadata": {
    "slideshow": {
     "slide_type": "slide"
    }
   },
   "source": [
    "### LendingClub\n",
    "\n",
    "LendingClub is a \"peer-to-peer lending company\"; they [used to publish](https://www.lendingclub.com/info/download-data.action) a dataset describing the loans that they approved (fortunately, we downloaded it while it was available).\n",
    "\n",
    "* `'tag'`: whether loan was repaid in full (1.0) or defaulted (0.0)\n",
    "* `'loan_amnt'`: amount of the loan in dollars\n",
    "* `'emp_length'`: number of years employed\n",
    "* `'home_ownership'`: whether borrower owns (1.0) or rents (0.0)\n",
    "* `'inq_last_6mths'`: number of credit inquiries in last six months\n",
    "* `'revol_bal'`: revolving balance on borrows accounts\n",
    "* `'age'`: age in years of the borrower (protected attribute)"
   ]
  },
  {
   "cell_type": "code",
   "execution_count": null,
   "metadata": {},
   "outputs": [],
   "source": [
    "loans = pd.read_csv('data/loan_vars1.csv', index_col=0)\n",
    "loans.head()"
   ]
  },
  {
   "cell_type": "markdown",
   "metadata": {},
   "source": [
    "The total amount of money loaned was over 5 billion dollars! "
   ]
  },
  {
   "cell_type": "code",
   "execution_count": null,
   "metadata": {},
   "outputs": [],
   "source": [
    "loans['loan_amnt'].sum()"
   ]
  },
  {
   "cell_type": "code",
   "execution_count": null,
   "metadata": {},
   "outputs": [],
   "source": [
    "loans.shape[0]"
   ]
  },
  {
   "cell_type": "markdown",
   "metadata": {
    "slideshow": {
     "slide_type": "slide"
    }
   },
   "source": [
    "### Predicting `'tag'`\n",
    "\n",
    "Let's build a classifier that predicts whether or not a loan was paid in full. If we were a bank, we could use our trained classifier to determine whether to approve someone for a loan!"
   ]
  },
  {
   "cell_type": "code",
   "execution_count": null,
   "metadata": {},
   "outputs": [],
   "source": [
    "from sklearn.model_selection import train_test_split\n",
    "from sklearn.ensemble import RandomForestClassifier"
   ]
  },
  {
   "cell_type": "code",
   "execution_count": null,
   "metadata": {},
   "outputs": [],
   "source": [
    "X = loans.drop('tag', axis=1)\n",
    "y = loans.tag\n",
    "X_train, X_test, y_train, y_test = train_test_split(X, y)"
   ]
  },
  {
   "cell_type": "code",
   "execution_count": null,
   "metadata": {},
   "outputs": [],
   "source": [
    "clf = RandomForestClassifier(n_estimators=50)\n",
    "clf.fit(X_train, y_train)"
   ]
  },
  {
   "cell_type": "markdown",
   "metadata": {},
   "source": [
    "Recall, a prediction of 1 means that we predict that the loan will be paid in full."
   ]
  },
  {
   "cell_type": "code",
   "execution_count": null,
   "metadata": {},
   "outputs": [],
   "source": [
    "y_pred = clf.predict(X_test)\n",
    "y_pred"
   ]
  },
  {
   "cell_type": "code",
   "execution_count": null,
   "metadata": {},
   "outputs": [],
   "source": [
    "clf.score(X_test, y_test)"
   ]
  },
  {
   "cell_type": "code",
   "execution_count": null,
   "metadata": {},
   "outputs": [],
   "source": [
    "from sklearn import metrics"
   ]
  },
  {
   "cell_type": "code",
   "execution_count": null,
   "metadata": {},
   "outputs": [],
   "source": [
    "metrics.plot_confusion_matrix(clf, X_test, y_test);"
   ]
  },
  {
   "cell_type": "markdown",
   "metadata": {
    "slideshow": {
     "slide_type": "slide"
    }
   },
   "source": [
    "### Precision\n",
    "\n",
    "$$\\text{precision} = \\frac{TP}{TP+FP}$$\n",
    "\n",
    "Precision describes the **proportion of loans that were approved that would have been paid back**."
   ]
  },
  {
   "cell_type": "code",
   "execution_count": null,
   "metadata": {},
   "outputs": [],
   "source": [
    "metrics.precision_score(y_test, y_pred)"
   ]
  },
  {
   "cell_type": "markdown",
   "metadata": {},
   "source": [
    "If we subtract the precision from 1, we get the proportion of loans that were approved that **would not** have been paid back. This is known as the **false discovery rate**.\n",
    "\n",
    "$$\\frac{FP}{TP + FP} = 1 - \\text{precision}$$"
   ]
  },
  {
   "cell_type": "code",
   "execution_count": null,
   "metadata": {},
   "outputs": [],
   "source": [
    "1 - metrics.precision_score(y_test, y_pred)"
   ]
  },
  {
   "cell_type": "markdown",
   "metadata": {
    "slideshow": {
     "slide_type": "slide"
    }
   },
   "source": [
    "### Recall\n",
    "\n",
    "$$\\text{recall} = \\frac{TP}{TP + FN}$$\n",
    "\n",
    "Recall describes the **proportion of loans that would have been paid back that were actually approved**."
   ]
  },
  {
   "cell_type": "code",
   "execution_count": null,
   "metadata": {},
   "outputs": [],
   "source": [
    "metrics.recall_score(y_test, y_pred)"
   ]
  },
  {
   "cell_type": "markdown",
   "metadata": {},
   "source": [
    "If we subtract the recall from 1, we get the proportion of loans that would have been paid back that **were denied**. This is known as the **false negative rate**.\n",
    "\n",
    "$$\\frac{FN}{TP + FN} = 1 - \\text{recall}$$"
   ]
  },
  {
   "cell_type": "code",
   "execution_count": null,
   "metadata": {},
   "outputs": [],
   "source": [
    "1 - metrics.recall_score(y_test, y_pred)"
   ]
  },
  {
   "cell_type": "markdown",
   "metadata": {},
   "source": [
    "From both the perspective of the bank and the lendee, a high false negative rate is bad!\n",
    "- The bank left money on the table – the lendee would have paid back the loan, but they weren't approved for a loan.\n",
    "- The lendee deserved the loan, but weren't given one."
   ]
  },
  {
   "cell_type": "markdown",
   "metadata": {
    "slideshow": {
     "slide_type": "slide"
    }
   },
   "source": [
    "### False negative rate by age"
   ]
  },
  {
   "cell_type": "code",
   "execution_count": null,
   "metadata": {},
   "outputs": [],
   "source": [
    "results = X_test\n",
    "results['age_bracket'] = results['age'].apply(lambda x: 5 * (x // 5 + 1))\n",
    "results['prediction'] = y_pred\n",
    "results['tag'] = y_test\n",
    "\n",
    "(\n",
    "    results\n",
    "    .groupby('age_bracket')\n",
    "    .apply(lambda x: 1 - metrics.recall_score(x['tag'], x['prediction']))\n",
    "    .plot(kind='bar', title='False Negative Rate by Age Group')\n",
    ");"
   ]
  },
  {
   "cell_type": "markdown",
   "metadata": {
    "slideshow": {
     "slide_type": "slide"
    }
   },
   "source": [
    "### Computing parity measures\n",
    "\n",
    "- $C$: Our random forest classifier (1 if we approved the loan, 0 if we denied it).\n",
    "- $Y$: Whether or not they truly paid off the loan (1) or defaulted (0).\n",
    "- $A$: Whether or not they were under 25 (1 if under, 0 if above)."
   ]
  },
  {
   "cell_type": "code",
   "execution_count": null,
   "metadata": {},
   "outputs": [],
   "source": [
    "results['is_young'] = (results.age < 25).replace({True: 'young', False: 'old'})"
   ]
  },
  {
   "cell_type": "markdown",
   "metadata": {},
   "source": [
    "First, let's compute the proportion of loans that were approved in each group. If these two numbers are the same, $C$ achieves demographic parity."
   ]
  },
  {
   "cell_type": "code",
   "execution_count": null,
   "metadata": {},
   "outputs": [],
   "source": [
    "results.groupby('is_young')['prediction'].mean().to_frame()"
   ]
  },
  {
   "cell_type": "markdown",
   "metadata": {},
   "source": [
    "$C$ evidently does not achieve demographic parity – older people are approved for loans far more often! Note that this doesn't factor in whether they were _correctly_ approved or _incorrectly_ approved."
   ]
  },
  {
   "cell_type": "markdown",
   "metadata": {
    "slideshow": {
     "slide_type": "slide"
    }
   },
   "source": [
    "Now, let's compute the accuracy of $C$ in each group. If these two numbers are the same, $C$ achieves accuracy parity."
   ]
  },
  {
   "cell_type": "code",
   "execution_count": null,
   "metadata": {},
   "outputs": [],
   "source": [
    "(\n",
    "    results\n",
    "    .groupby('is_young')\n",
    "    .apply(lambda x: metrics.accuracy_score(x['tag'], x['prediction']))\n",
    "    .rename('accuracy')\n",
    "    .to_frame()\n",
    ")"
   ]
  },
  {
   "cell_type": "markdown",
   "metadata": {},
   "source": [
    "Hmm... These numbers look much more similar than before!"
   ]
  },
  {
   "cell_type": "markdown",
   "metadata": {
    "slideshow": {
     "slide_type": "slide"
    }
   },
   "source": [
    "### Is this difference in accuracy significant?\n",
    "\n",
    "Let's run a **permutation test** to see if the difference in accuracy is significant.\n",
    "- Null Hypothesis: The classifier's accuracy is the same for both young people and old people, and any differences are due to chance.\n",
    "- Alternative Hypothesis: The classifier's accuracy is higher for old people.\n",
    "- Test statistic: Difference in accuracy (young minus old).\n",
    "- Significance level: 0.01."
   ]
  },
  {
   "cell_type": "code",
   "execution_count": null,
   "metadata": {},
   "outputs": [],
   "source": [
    "obs = results.groupby('is_young').apply(lambda x: metrics.accuracy_score(x['tag'], x['prediction'])).diff().iloc[-1]\n",
    "obs"
   ]
  },
  {
   "cell_type": "code",
   "execution_count": null,
   "metadata": {},
   "outputs": [],
   "source": [
    "diff_in_acc = []\n",
    "for _ in range(100):\n",
    "    s = (\n",
    "        results[['is_young', 'prediction', 'tag']]\n",
    "        .assign(is_young=results.is_young.sample(frac=1.0, replace=False).reset_index(drop=True))\n",
    "        .groupby('is_young')\n",
    "        .apply(lambda x: metrics.accuracy_score(x['tag'], x['prediction']))\n",
    "        .diff()\n",
    "        .iloc[-1]\n",
    "    )\n",
    "    \n",
    "    diff_in_acc.append(s)"
   ]
  },
  {
   "cell_type": "code",
   "execution_count": null,
   "metadata": {},
   "outputs": [],
   "source": [
    "plt.figure(figsize=(10, 5))\n",
    "pd.Series(diff_in_acc).plot(kind='hist', ec='w', density=True, bins=15, title='Difference in Accuracy (Young - Old)')\n",
    "plt.axvline(x=obs, color='red', label='observed difference in accuracy')\n",
    "plt.legend(loc='upper left');"
   ]
  },
  {
   "cell_type": "markdown",
   "metadata": {},
   "source": [
    "It seems like the difference in accuracy across the two groups **is significant**, despite being only ~6%. Thus, $C$ likely does not achieve accuracy parity."
   ]
  },
  {
   "cell_type": "markdown",
   "metadata": {
    "slideshow": {
     "slide_type": "slide"
    }
   },
   "source": [
    "### Ethical questions of fairness\n",
    "\n",
    "- **Question:** Is it \"fair\" to deny loans to younger people at a higher rate?"
   ]
  },
  {
   "cell_type": "markdown",
   "metadata": {
    "slideshow": {
     "slide_type": "fragment"
    }
   },
   "source": [
    "- One answer: yes!\n",
    "    - Young people default more often.\n",
    "    - To have same level of accuracy, we need to deny them loans more often."
   ]
  },
  {
   "cell_type": "markdown",
   "metadata": {
    "slideshow": {
     "slide_type": "fragment"
    }
   },
   "source": [
    "- Other answer: no!\n",
    "    - Accuracy isn't everything.\n",
    "    - Younger people **need** loans to buy houses, pay for school, etc.\n",
    "    - The bank should be required to take on higher risk; this is the cost of operating in a society."
   ]
  },
  {
   "cell_type": "markdown",
   "metadata": {
    "slideshow": {
     "slide_type": "fragment"
    }
   },
   "source": [
    "- Federal law prevents age from being used as a determining factor in denying a loan."
   ]
  },
  {
   "cell_type": "markdown",
   "metadata": {
    "slideshow": {
     "slide_type": "slide"
    }
   },
   "source": [
    "Not only should we use `'age'` to determine whether or not to approve a loan, but we also shouldn't use other features that are strongly correlated with `'age'`, like `'emp_length'`."
   ]
  },
  {
   "cell_type": "code",
   "execution_count": null,
   "metadata": {},
   "outputs": [],
   "source": [
    "loans"
   ]
  },
  {
   "cell_type": "markdown",
   "metadata": {
    "slideshow": {
     "slide_type": "slide"
    }
   },
   "source": [
    "## Parting thoughts"
   ]
  },
  {
   "cell_type": "markdown",
   "metadata": {
    "slideshow": {
     "slide_type": "slide"
    }
   },
   "source": [
    "<center><img src=\"imgs/DSLC.png\" width=\"40%\"></center>"
   ]
  },
  {
   "cell_type": "markdown",
   "metadata": {
    "slideshow": {
     "slide_type": "slide"
    }
   },
   "source": [
    "### Course goals ✅\n",
    "\n",
    "In this course, you...\n",
    "\n",
    "* **Practiced** translating potentially vague questions into quantitative questions about measurable observations.\n",
    "* **Learned** to reason about 'black-box' processes (e.g. complicated models).\n",
    "* **Understood** computational and statistical implications of working with data.\n",
    "* **Learned** to use real data tools (e.g. love the documentation!).\n",
    "* **Got** a taste of the \"life of a data scientist\"."
   ]
  },
  {
   "cell_type": "markdown",
   "metadata": {
    "slideshow": {
     "slide_type": "slide"
    }
   },
   "source": [
    "### Course outcomes ✅\n",
    "\n",
    "Now, you...\n",
    "\n",
    "* Are **prepared** for internships and data science \"take home\" interviews!\n",
    "* Are **ready** to create your own portfolio of personal projects.\n",
    "    - Side note: look at [rampure.org/find-datasets](https://rampure.org/find-datasets) to find datasets for personal projects.\n",
    "* Have the **background** and **maturity** to succeed in the upper-division."
   ]
  },
  {
   "cell_type": "markdown",
   "metadata": {
    "slideshow": {
     "slide_type": "slide"
    }
   },
   "source": [
    "### Topics covered ✅\n",
    "\n",
    "We learnt a lot this quarter.\n",
    "\n",
    "- Week 1: DataFrames in `pandas`\n",
    "- Week 2: Messy Data and Hypothesis Testing\n",
    "- Week 3: Combining Data\n",
    "- Week 4: Permutation Testing and Missing Values\n",
    "- Week 5: Imputation, **Midterm Exam**\n",
    "- Week 6: Web Scraping and Regex\n",
    "- Week 7: Feature Engineering\n",
    "- Week 8: Modeling in `scikit-learn`\n",
    "- Week 9: Model Evaluation\n",
    "- Week 10: Review, **Final Exam**"
   ]
  },
  {
   "cell_type": "markdown",
   "metadata": {
    "slideshow": {
     "slide_type": "slide"
    }
   },
   "source": [
    "### Thank you!\n",
    "\n",
    "This course would not have been possible without:\n",
    "- Our TA: Murali Dandu.\n",
    "- Our 11 tutors: Nicole Brye, Aven Huang, Shubham Kaushal, Karthikeya Manchala, Yash Potdar, Costin Smiliovici, Anjana Sriram, Ruojia Tao, Du Xiang, Sheng Yang, and Winston Yu.\n",
    "\n",
    "- Don't be a stranger: [dsc80.com/staff](https://dsc80.com/staff).\n",
    "\n",
    "- **Apply to be a tutor in the future!** [Learn more here](https://datascience.ucsd.edu/academics/undergraduate/dsc-tutors/)."
   ]
  },
  {
   "cell_type": "markdown",
   "metadata": {
    "slideshow": {
     "slide_type": "slide"
    }
   },
   "source": [
    "<center><h3>Good luck on the Final Exam, and enjoy your summer! 🎉</h3></center>"
   ]
  }
 ],
 "metadata": {
  "celltoolbar": "Slideshow",
  "kernelspec": {
   "display_name": "Python 3 (ipykernel)",
   "language": "python",
   "name": "python3"
  },
  "language_info": {
   "codemirror_mode": {
    "name": "ipython",
    "version": 3
   },
   "file_extension": ".py",
   "mimetype": "text/x-python",
   "name": "python",
   "nbconvert_exporter": "python",
   "pygments_lexer": "ipython3",
   "version": "3.9.7"
  },
  "livereveal": {
   "scroll": true,
   "transition": "none"
  }
 },
 "nbformat": 4,
 "nbformat_minor": 2
}
